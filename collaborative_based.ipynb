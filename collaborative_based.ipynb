{
 "cells": [
  {
   "cell_type": "markdown",
   "metadata": {},
   "source": [
    "# Spotify MPD Collaborative Filtering\n",
    "- Idé: Rekommendera ett namn för givna spellistan genom att ge den samma namn som den närmaste playlisten.\n",
    "- Skapa en funktion som konverterar spellistorna att ha bara artisten och namnet i sig."
   ]
  },
  {
   "cell_type": "code",
   "execution_count": 1,
   "metadata": {},
   "outputs": [
    {
     "name": "stdout",
     "output_type": "stream",
     "text": [
      "Loaded 1 jsons\n",
      "Found 34250 unique songs\n",
      "Ted Leo and the Pharmacists - Counting Down the Hours\n",
      "(Sandy) Alex G - Kicker\n",
      "Edward Sharpe & The Magnetic Zeros - Hot Coals\n",
      "Coldplay - Birds\n",
      "Hippo Campus - Violet\n",
      "Pickled data found.\n"
     ]
    },
    {
     "ename": "UnsupportedOperation",
     "evalue": "read",
     "output_type": "error",
     "traceback": [
      "\u001b[0;31m---------------------------------------------------------------------------\u001b[0m",
      "\u001b[0;31mUnsupportedOperation\u001b[0m                      Traceback (most recent call last)",
      "\u001b[0;32m/tmp/ipykernel_234248/2025279350.py\u001b[0m in \u001b[0;36m<module>\u001b[0;34m\u001b[0m\n\u001b[1;32m    187\u001b[0m \u001b[0mrecommender\u001b[0m\u001b[0;34m.\u001b[0m\u001b[0mextract_unique_songs\u001b[0m\u001b[0;34m(\u001b[0m\u001b[0;34m)\u001b[0m\u001b[0;34m\u001b[0m\u001b[0;34m\u001b[0m\u001b[0m\n\u001b[1;32m    188\u001b[0m \u001b[0mrecommender\u001b[0m\u001b[0;34m.\u001b[0m\u001b[0msample_tracks\u001b[0m\u001b[0;34m(\u001b[0m\u001b[0;36m69\u001b[0m\u001b[0;34m,\u001b[0m \u001b[0;36m5\u001b[0m\u001b[0;34m)\u001b[0m\u001b[0;34m\u001b[0m\u001b[0;34m\u001b[0m\u001b[0m\n\u001b[0;32m--> 189\u001b[0;31m \u001b[0mrecommender\u001b[0m\u001b[0;34m.\u001b[0m\u001b[0mmake_user_based_vectors\u001b[0m\u001b[0;34m(\u001b[0m\u001b[0;34m)\u001b[0m\u001b[0;34m\u001b[0m\u001b[0;34m\u001b[0m\u001b[0m\n\u001b[0m\u001b[1;32m    190\u001b[0m \u001b[0mrecommender\u001b[0m\u001b[0;34m.\u001b[0m\u001b[0mmake_item_based_vectors\u001b[0m\u001b[0;34m(\u001b[0m\u001b[0;34m)\u001b[0m\u001b[0;34m\u001b[0m\u001b[0;34m\u001b[0m\u001b[0m\n",
      "\u001b[0;32m/tmp/ipykernel_234248/2025279350.py\u001b[0m in \u001b[0;36mmake_user_based_vectors\u001b[0;34m(self)\u001b[0m\n\u001b[1;32m     98\u001b[0m                 \u001b[0mprint\u001b[0m\u001b[0;34m(\u001b[0m\u001b[0;34m\"Pickled data found.\"\u001b[0m\u001b[0;34m)\u001b[0m\u001b[0;34m\u001b[0m\u001b[0;34m\u001b[0m\u001b[0m\n\u001b[1;32m     99\u001b[0m                 \u001b[0mself\u001b[0m\u001b[0;34m.\u001b[0m\u001b[0mplaylist_vectors\u001b[0m \u001b[0;34m=\u001b[0m \u001b[0mpickle\u001b[0m\u001b[0;34m.\u001b[0m\u001b[0mload\u001b[0m\u001b[0;34m(\u001b[0m\u001b[0mvector_file\u001b[0m\u001b[0;34m)\u001b[0m\u001b[0;34m\u001b[0m\u001b[0;34m\u001b[0m\u001b[0m\n\u001b[0;32m--> 100\u001b[0;31m                 \u001b[0mself\u001b[0m\u001b[0;34m.\u001b[0m\u001b[0mplaylists\u001b[0m \u001b[0;34m=\u001b[0m \u001b[0mpickle\u001b[0m\u001b[0;34m.\u001b[0m\u001b[0mload\u001b[0m\u001b[0;34m(\u001b[0m\u001b[0mplaylist_file\u001b[0m\u001b[0;34m)\u001b[0m\u001b[0;34m\u001b[0m\u001b[0;34m\u001b[0m\u001b[0m\n\u001b[0m\u001b[1;32m    101\u001b[0m         \u001b[0;32mexcept\u001b[0m \u001b[0;34m(\u001b[0m\u001b[0mFileNotFoundError\u001b[0m\u001b[0;34m)\u001b[0m\u001b[0;34m:\u001b[0m\u001b[0;34m\u001b[0m\u001b[0;34m\u001b[0m\u001b[0m\n\u001b[1;32m    102\u001b[0m             \u001b[0mprint\u001b[0m\u001b[0;34m(\u001b[0m\u001b[0;34m\"Pickled data not found, generating vectors...\"\u001b[0m\u001b[0;34m)\u001b[0m\u001b[0;34m\u001b[0m\u001b[0;34m\u001b[0m\u001b[0m\n",
      "\u001b[0;31mUnsupportedOperation\u001b[0m: read"
     ]
    }
   ],
   "source": [
    "import json\n",
    "import os\n",
    "import numpy as np\n",
    "import math\n",
    "from typing import List, Tuple, Union\n",
    "from collections import defaultdict\n",
    "import random\n",
    "import time\n",
    "import pickle\n",
    "\n",
    "\n",
    "class Collaborative_Recommender:\n",
    "    Vector = List[int]\n",
    "    a = \"heyo\"\n",
    "\n",
    "    def __init__(self, path: str, rewrite_data: bool = False, playlist_limit: int = 0) -> None:\n",
    "        self.playlists = []\n",
    "        self.path = path\n",
    "        self.rewrite_data = rewrite_data\n",
    "        self.load_data(path, playlist_limit)\n",
    "        self.named_playlists = self.to_track_names(self.playlists)\n",
    "        self.a = \"privet\"\n",
    "\n",
    "    def load_data(self, data_path: str, limit: int = 0):\n",
    "        try:\n",
    "            for filename in os.listdir(data_path):\n",
    "                with open(os.path.join(data_path, filename), \"rt\", encoding=\"utf-8\") as f:\n",
    "                    self.playlists.extend(json.load(f)[\"playlists\"])\n",
    "            print(f\"Loaded {len(os.listdir(data_path))} jsons\")\n",
    "\n",
    "            # Shuffle playlist as to reduce possible bias (a pickled playlist would overwrite this)\n",
    "            random.shuffle(self.playlists)\n",
    "            if limit > 0:\n",
    "                self.playlists = self.playlists[:limit]\n",
    "        except FileNotFoundError as e:\n",
    "            print(\"File not found:\", e)\n",
    "\n",
    "    def extract_unique_songs(self):\n",
    "        self.unique_songs = sorted(\n",
    "            {\n",
    "                f\"{song['artist_name']} - {song['track_name']}\"\n",
    "                for playlist in self.playlists\n",
    "                for i, song in enumerate(playlist[\"tracks\"])\n",
    "            }\n",
    "        )\n",
    "        print(f\"Found {len(self.unique_songs)} unique songs\")\n",
    "\n",
    "    def sample_tracks(self, pos: int, num: int):\n",
    "        for s in self.playlists[pos][\"tracks\"][:num]:\n",
    "            print(f\"{s['artist_name']} - {s['track_name']}\")\n",
    "\n",
    "    def to_track_names(self, playlists):\n",
    "        return [\n",
    "            [f\"{s['artist_name']} - {s['track_name']}\" for i, s in enumerate(playlist[\"tracks\"])]\n",
    "            for playlist in playlists\n",
    "        ]\n",
    "\n",
    "    def make_playlist_vector(self, playlist: Union[dict, List[str]]) -> List[int]:\n",
    "        \"\"\"\n",
    "        Given a list of interests, produce a vector whose ith element is 1\n",
    "        if unique_songs[i] is in the list, 0 otherwise\n",
    "        \"\"\"\n",
    "\n",
    "        # Checking whether it's a dict or list, since one can supply a list of song names too\n",
    "        if isinstance(playlist, dict):\n",
    "            return [\n",
    "                1\n",
    "                if song\n",
    "                in [\n",
    "                    f\"{s['artist_name']} - {s['track_name']}\"\n",
    "                    for i, s in enumerate(playlist[\"tracks\"])\n",
    "                ]\n",
    "                else 0\n",
    "                for song in self.unique_songs  # [:100] for testing\n",
    "            ]\n",
    "        elif isinstance(playlist, List):\n",
    "            return [1 if song in playlist else 0 for song in self.unique_songs]\n",
    "\n",
    "    def make_user_based_vectors(self):\n",
    "\n",
    "        t0 = time.time()\n",
    "\n",
    "        try:\n",
    "            if self.rewrite_data:\n",
    "                print(\"Rewriting data: Generating vectors and dumping them\")\n",
    "                self.playlist_vectors = [\n",
    "                    self.make_playlist_vector(playlist) for playlist in self.playlists\n",
    "                ]\n",
    "                vector_file = open(\"playlist_vectors.pickle\", \"wb\")\n",
    "                playlist_file = open(\"playlists.pickle\", \"wb\")\n",
    "                print(\"Pickling...\")\n",
    "                pickle.dump(self.playlist_vectors, vector_file)\n",
    "                pickle.dump(self.playlists, playlist_file)\n",
    "            else:\n",
    "                vector_file = open(\"playlist_vectors.pickle\", \"rb\")\n",
    "                playlist_file = open(\"playlists.pickle\", \"rb\")\n",
    "\n",
    "                print(\"Pickled data found.\")\n",
    "                self.playlist_vectors = pickle.load(vector_file)\n",
    "                self.playlists = pickle.load(playlist_file)\n",
    "        except (FileNotFoundError):\n",
    "            print(\"Pickled data not found, generating vectors...\")\n",
    "            self.playlist_vectors = [\n",
    "                self.make_playlist_vector(playlist) for playlist in self.playlists\n",
    "            ]\n",
    "            vector_file = open(\"playlist_vectors.pickle\", \"wb\")\n",
    "            playlist_file = open(\"playlists.pickle\", \"wb\")\n",
    "            print(\"Pickling...\")\n",
    "            pickle.dump(self.playlist_vectors, vector_file)\n",
    "            pickle.dump(self.playlists, playlist_file)\n",
    "        finally:\n",
    "            vector_file.close()\n",
    "            playlist_file.close()\n",
    "\n",
    "        t1 = time.time()\n",
    "        print(f\"Time taken: {round(t1-t0, 2)} s\")\n",
    "        print(\"playlist_vectors length:\", len(self.playlist_vectors))\n",
    "        print(\"Sum of the vectors(useless metric):\", sum(np.array(self.playlist_vectors).flatten()))\n",
    "\n",
    "    def make_item_based_vectors(self):\n",
    "        self.song_playlist_matrix: List[List[int]] = [\n",
    "            [playlist_vector[i] for playlist_vector in self.playlist_vectors]\n",
    "            for i, _ in enumerate(self.unique_songs)\n",
    "        ]\n",
    "\n",
    "    def dot(self, v: Vector, w: Vector) -> float:\n",
    "        \"\"\"Computes v_1 * w_1 + ... + v_n * w_n\"\"\"\n",
    "        assert len(v) == len(w), \"vectors must be same length\"\n",
    "\n",
    "        return sum(v_i * w_i for v_i, w_i in zip(v, w))\n",
    "\n",
    "    def cosine_similarity(self, v1: Vector, v2: Vector) -> float:\n",
    "        return self.dot(v1, v2) / math.sqrt(self.dot(v1, v1) * self.dot(v2, v2))\n",
    "\n",
    "    def compute_similarities(self, pv) -> List[float]:\n",
    "        return [self.cosine_similarity(pv, pv_i) for pv_i in self.playlist_vectors]\n",
    "\n",
    "    def sort_similar_playlists(self, similarities: List[float], user_id: int):\n",
    "        id_similarity = [\n",
    "            (id, similarity)\n",
    "            for id, similarity in enumerate(similarities)\n",
    "            if id != user_id and similarity > 0\n",
    "        ]\n",
    "        return sorted(id_similarity, key=lambda pair: pair[-1], reverse=True)\n",
    "\n",
    "    def user_based_suggestions(\n",
    "        self,\n",
    "        similarities,\n",
    "        max_suggestions: int = 10,\n",
    "    ):\n",
    "        # Sum up the similarities\n",
    "        suggestions: Dict[str, float] = defaultdict(float)\n",
    "        for other_user_id, similarity in self.sort_similar_playlists(similarities, self.user_id):\n",
    "            for song in self.named_playlists[other_user_id]:\n",
    "                suggestions[song] += similarity\n",
    "\n",
    "        # Convert them to a sorted list\n",
    "        suggestions = sorted(suggestions.items(), key=lambda pair: pair[-1], reverse=True)\n",
    "\n",
    "        # Exclude the user_id's supplied songs\n",
    "        return [\n",
    "            (suggestion, weight)\n",
    "            for suggestion, weight in suggestions\n",
    "            if suggestion not in self.named_playlists[self.user_id]\n",
    "        ][:max_suggestions]\n",
    "\n",
    "    def user_based_recommendation(self, playlist: List[str], limit: int = 10, user_id: int = -1):\n",
    "        self.user_id = user_id\n",
    "        similarities = self.compute_similarities(self.make_playlist_vector(playlist))\n",
    "        suggestions = self.user_based_suggestions(similarities=similarities, max_suggestions=limit)\n",
    "        return suggestions\n",
    "\n",
    "    def compute_song_similarities(self, song_id: int) -> List[float]:\n",
    "        return [self.cosine_similarity(self.song_playlist_matrix[song_id], pl_vector_j)\n",
    "                    for pl_vector_j in self.song_playlist_matrix]\n",
    "\n",
    "    def most_similar_songs_to(self,song_id: int) -> List[Tuple[str, float]]:\n",
    "        similarities = self.compute_song_similarities(song_id)\n",
    "        song_similarity_pairs = [(self.unique_songs[other_song_id], similarity)\n",
    "        for other_song_id, similarity in enumerate(similarities)\n",
    "        if song_id != other_song_id and similarity > 0\n",
    "        ]\n",
    "        return sorted(song_similarity_pairs,key=lambda pair: pair[-1], reverse=True)\n",
    "        \n",
    "\n",
    "recommender = Collaborative_Recommender(\"mpd/data_samples\", rewrite_data=False)\n",
    "recommender.extract_unique_songs()\n",
    "recommender.sample_tracks(69, 5)\n",
    "recommender.make_user_based_vectors()\n",
    "recommender.make_item_based_vectors()\n"
   ]
  },
  {
   "cell_type": "code",
   "execution_count": null,
   "metadata": {},
   "outputs": [],
   "source": [
    "for i, song in enumerate(recommender.unique_songs):\n",
    "    if song == 'Nirvana - Smells Like Teen Spirit':\n",
    "        print(\"Song is at index:\", i, \":\", recommender.unique_songs[i])"
   ]
  },
  {
   "cell_type": "code",
   "execution_count": 66,
   "metadata": {},
   "outputs": [
    {
     "name": "stdout",
     "output_type": "stream",
     "text": [
      "Suggestions:\n"
     ]
    },
    {
     "data": {
      "text/plain": [
       "[('Nirvana - Smells Like Teen Spirit', 0.1404878717372541),\n",
       " ('Pearl Jam - Even Flow', 0.1404878717372541),\n",
       " ('Fugees - Killing Me Softly with His Song', 0.11407099568136256),\n",
       " ('Sir Mix-A-Lot - Baby Got Back', 0.11194039176134767),\n",
       " ('Cypress Hill - Insane in the Brain', 0.10191046736635467),\n",
       " ('Rob Base & DJ EZ Rock - It Takes Two', 0.09851875642131602),\n",
       " ('Weezer - Island In The Sun', 0.0936585811581694),\n",
       " ('Nirvana - Come As You Are', 0.0936585811581694),\n",
       " ('Foo Fighters - Everlong', 0.0936585811581694),\n",
       " ('Tag Team - Whoomp! There It Is', 0.0936585811581694),\n",
       " ('Depeche Mode - Personal Jesus', 0.0936585811581694),\n",
       " ('Fuel - Shimmer - Single Version', 0.0936585811581694)]"
      ]
     },
     "metadata": {},
     "output_type": "display_data"
    }
   ],
   "source": [
    "pelle_id = 302\n",
    "pelles_playlist = recommender.playlists[pelle_id]\n",
    "sug = recommender.user_based_recommendation(pelles_playlist, 12, pelle_id)\n",
    "print(\"Suggestions:\")\n",
    "display(sug)"
   ]
  },
  {
   "cell_type": "code",
   "execution_count": 68,
   "metadata": {},
   "outputs": [
    {
     "name": "stdout",
     "output_type": "stream",
     "text": [
      "The same playlist but supplied as a list of track names\n"
     ]
    },
    {
     "data": {
      "text/plain": [
       "[('Nirvana - Smells Like Teen Spirit', 0.1404878717372541),\n",
       " ('Pearl Jam - Even Flow', 0.1404878717372541),\n",
       " ('Fugees - Killing Me Softly with His Song', 0.11407099568136256),\n",
       " ('Sir Mix-A-Lot - Baby Got Back', 0.11194039176134767),\n",
       " ('Cypress Hill - Insane in the Brain', 0.10191046736635467),\n",
       " ('Rob Base & DJ EZ Rock - It Takes Two', 0.09851875642131602),\n",
       " ('Weezer - Island In The Sun', 0.0936585811581694),\n",
       " ('Nirvana - Come As You Are', 0.0936585811581694),\n",
       " ('Foo Fighters - Everlong', 0.0936585811581694),\n",
       " ('Tag Team - Whoomp! There It Is', 0.0936585811581694),\n",
       " ('Depeche Mode - Personal Jesus', 0.0936585811581694),\n",
       " ('Fuel - Shimmer - Single Version', 0.0936585811581694)]"
      ]
     },
     "metadata": {},
     "output_type": "display_data"
    }
   ],
   "source": [
    "pelles_custom_playlist = [\n",
    "    \"Digital Underground - The Humpty Dance\",\n",
    "    \"Naughty By Nature - Hip Hop Hooray\",\n",
    "    \"Naughty By Nature - O.P.P.\",\n",
    "    \"Busta Rhymes - Woo Hah!! Got You All In Check - Explicit LP Version\",\n",
    "    \"Black Sheep - The Choice Is Yours (Revisited)\",\n",
    "    \"Luke - I Wanna Rock\",\n",
    "    \"A Tribe Called Quest - Buggin' Out\",\n",
    "    \"Eric B. & Rakim - Know The Ledge\",\n",
    "    \"Nas - The World Is Yours\",\n",
    "    \"A Tribe Called Quest - Scenario - LP Mix\",\n",
    "    \"Gil Scott-Heron - Home Is Where the Hatred Is\",\n",
    "    \"Digable Planets - Rebirth of Slick (Cool Like Dat)\",\n",
    "    \"Public Enemy - Rebel Without A Pause\",\n",
    "    \"Onyx - Slam\",\n",
    "    \"Parliament - Let's Play House\",\n",
    "    \"AMG - Bitch Betta Have My Money\",\n",
    "]\n",
    "\n",
    "print(\"The same playlist but supplied as a list of track names\")\n",
    "display(recommender.user_based_recommendation(pelles_custom_playlist, 12, pelle_id))"
   ]
  },
  {
   "cell_type": "code",
   "execution_count": 69,
   "metadata": {},
   "outputs": [
    {
     "name": "stdout",
     "output_type": "stream",
     "text": [
      "Pelles own playlist:\n"
     ]
    },
    {
     "data": {
      "text/plain": [
       "['Digital Underground - The Humpty Dance',\n",
       " 'Naughty By Nature - Hip Hop Hooray',\n",
       " 'Naughty By Nature - O.P.P.',\n",
       " 'Busta Rhymes - Woo Hah!! Got You All In Check - Explicit LP Version',\n",
       " 'Black Sheep - The Choice Is Yours (Revisited)',\n",
       " 'Luke - I Wanna Rock',\n",
       " \"A Tribe Called Quest - Buggin' Out\",\n",
       " 'Eric B. & Rakim - Know The Ledge',\n",
       " 'Nas - The World Is Yours',\n",
       " 'A Tribe Called Quest - Scenario - LP Mix',\n",
       " 'Gil Scott-Heron - Home Is Where the Hatred Is',\n",
       " 'Digable Planets - Rebirth of Slick (Cool Like Dat)',\n",
       " 'Public Enemy - Rebel Without A Pause',\n",
       " 'Onyx - Slam',\n",
       " \"Parliament - Let's Play House\",\n",
       " 'AMG - Bitch Betta Have My Money']"
      ]
     },
     "execution_count": 69,
     "metadata": {},
     "output_type": "execute_result"
    }
   ],
   "source": [
    "print(\"Pelles own playlist:\")\n",
    "recommender.named_playlists[pelle_id]"
   ]
  },
  {
   "cell_type": "markdown",
   "metadata": {},
   "source": [
    "## Förklara och visualisera datan\n",
    "lorem ipsum"
   ]
  },
  {
   "cell_type": "markdown",
   "metadata": {},
   "source": [
    "## Bygg rekommenderaren"
   ]
  },
  {
   "cell_type": "markdown",
   "metadata": {},
   "source": [
    "### Item based collaborative filtering\n",
    "1k playlists would take 18 hours to calculate on a ryzen 3800x......"
   ]
  },
  {
   "cell_type": "code",
   "execution_count": null,
   "metadata": {},
   "outputs": [],
   "source": [
    "song_playlist_matrix = np.array(make_item_based_vectors(playlist_vectors, unique_songs))\n",
    "\n",
    "print(\"Matrix shape (unique_songs, playlists):\",song_playlist_matrix.shape)"
   ]
  },
  {
   "cell_type": "code",
   "execution_count": null,
   "metadata": {},
   "outputs": [],
   "source": [
    "def time_taken(t0, t1, dec=2):\n",
    "    return round(t1-t0, dec)\n",
    "t0 = time.time()\n",
    "song_similarities = (cosine_similarity(song_playlist_matrix[1000], pl_vector_j)\n",
    "                    for pl_vector_j in song_playlist_matrix)\n",
    "\n",
    "t1 = time.time()\n",
    "print(\"Time taken:\", time_taken(t0, t1))"
   ]
  },
  {
   "cell_type": "code",
   "execution_count": null,
   "metadata": {},
   "outputs": [],
   "source": [
    "sum(song_similarities)"
   ]
  },
  {
   "cell_type": "code",
   "execution_count": null,
   "metadata": {},
   "outputs": [],
   "source": [
    "w = (asd for asd in [4,6,7,3,2,4,45,56])\n",
    "for i, j in enumerate(w):\n",
    "    print(i, j)"
   ]
  },
  {
   "cell_type": "code",
   "execution_count": null,
   "metadata": {},
   "outputs": [],
   "source": [
    "import multiprocessing as mp \n",
    "bigboi = np.empty(shape=(song_playlist_matrix.shape[0],song_playlist_matrix.shape[0]))\n",
    "\n",
    "def do_print(s):\n",
    "    foo = tuple([cosine_similarity(s[1], pl_vector_j)\n",
    "                    for pl_vector_j in song_playlist_matrix])\n",
    "    print(\"s\", s[0], \"done\")\n",
    "    return (s[0], foo)\n",
    "\n",
    "\n",
    "t0 = time.time()\n",
    "p=mp.Pool(14)\n",
    "items_user_tuple = p.map(do_print,enumerate(song_playlist_matrix))\n",
    "t1 = time.time()\n",
    "print(\"Time taken:\", time_taken(t0, t1))\n",
    "p.close()\n",
    "p.join()"
   ]
  },
  {
   "cell_type": "code",
   "execution_count": null,
   "metadata": {},
   "outputs": [],
   "source": [
    "sum(items_user_tuple[0][1])"
   ]
  },
  {
   "cell_type": "code",
   "execution_count": null,
   "metadata": {},
   "outputs": [],
   "source": [
    "unique_songs[:100]"
   ]
  },
  {
   "cell_type": "code",
   "execution_count": null,
   "metadata": {},
   "outputs": [],
   "source": [
    "f = open(\"items_user_tuple.pickle\", \"wb\")\n",
    "pickle.dump(items_user_tuple, f)"
   ]
  }
 ],
 "metadata": {
  "kernelspec": {
   "display_name": "Python 3",
   "language": "python",
   "name": "python3"
  },
  "language_info": {
   "codemirror_mode": {
    "name": "ipython",
    "version": 3
   },
   "file_extension": ".py",
   "mimetype": "text/x-python",
   "name": "python",
   "nbconvert_exporter": "python",
   "pygments_lexer": "ipython3",
   "version": "3.7.6"
  }
 },
 "nbformat": 4,
 "nbformat_minor": 4
}
