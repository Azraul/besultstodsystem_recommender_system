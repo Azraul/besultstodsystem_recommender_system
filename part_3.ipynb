{
 "cells": [
  {
   "cell_type": "markdown",
   "id": "fossil-chicken",
   "metadata": {},
   "source": [
    "# Part III"
   ]
  },
  {
   "cell_type": "markdown",
   "id": "connected-perfume",
   "metadata": {},
   "source": [
    "## 3.1 Sexism on Spotify\n",
    "*\tWhat is your view on \"Sexism on Spotify\"?\n",
    "\n",
    "\n",
    "*\tHow do you evaluate the \"Smirnoff Equalizer on Spotify\"?\n",
    "    * The Smirnoff Equalizer tool analyses a user’s listening habits, providing a breakdown of the percentage of male vs. female artists they listen to.\n",
    "    * It will then provide a tailored, gender-balanced playlist, with an option to adjust the amount of women on said playlist.\n",
    "    * Forcing equality is just a band-aid, and won’t fix the underlying problem\n",
    "    * Focus should be on talent\n",
    "    * Some genres will have a gender bias, this needs to be addressed to have more equal recommendations\n"
   ]
  },
  {
   "cell_type": "markdown",
   "id": "divine-valentine",
   "metadata": {},
   "source": [
    "## 3.2 Strategic Recommendation Bias\n",
    "The paper outlines a base case where the RS goal is to maximize the consumer utility by recommending the optimal content mix. In the base case the consumer can’t search for content. There are two types of content provided type A with a low royalty cost and type B with a high royalty cost. There are three types of consumers one with a preference for A, a second with a preference for a mix of A and B and the third prefers type B.\n",
    "  \n",
    "### 3.2.1 Strategic recommendation minimizing costs\n",
    "In this case the platform has set its subscription price and designed its recommendation system to maximize profitability by minimizing the costs. \n",
    "\n",
    "Consumer 1 is only recommended content A. Consumer 2 is recommended a personalized mix of A and B with a bias for A. Consumer 3 is provided with verry biased recommendations that are against their preferences so that they leave the platform.\n",
    "\n",
    "Strategic recommendation can reduce royalty rates to a level lower than that obtained when the RS only aims at maximizing consumers’ utility.\n",
    "\n",
    "### 3.2.2 Use RS strategically to leverage content providers\n",
    "By steer or threatening to steer consumers to cheaper content. The platform can offer contracts with the content providers for reduced rates in exchange for increased recommendations. This can also pin content providers against each other by offering lower royalty rates than their competitors in order to get more recommendations.\n",
    "\n",
    "The platform can reduce the content providers power and decrease their royalty payments. \n",
    "\n",
    "### 3.2.3 Vertical integration\n",
    "Vertical integration is a way for the platform to reduce royalty payments. This can be done by producing own content or merging with a content provider. This will lower the royalties the platform pays. \n",
    "\n",
    "Spotify has been bypassing record labels by licensing music directly from independent artists, in order to pay lower royalties.\n",
    "\n",
    "The demand for content independent content providers will be lowered. The best response for the content providers is keeping their royalties high while facing low demand.\n",
    "\n",
    "Vertical integration will mostly benefit the platforms and harm the content providers.\n",
    "\n",
    "\n",
    "### 3.2.5 Can you imagine this becoming a real problem which will be unnoticed by users?\n",
    "In the case of strategic recommendation to minimize costs. Users with a preference for content A will most likely not notes the biased recommendations as the recommendations will fit their optimal content mix, but the consumers with other preferences may notice the biased recommendations.\n",
    "\n",
    "Vertical integration is more likely to be noticed by more users than the previous case, as long as the contents origin is visible.  \n",
    "\n",
    "\n",
    "### 3.2.6\tWhat could be the possible risk and harm for users and artists?\n",
    "By recommending users content that minimize the royalty payments to content providers, this will decrease the consumer utility. By minimizing costs, the users with other preferences than type A are affected negatively, in the form of less personalized recommendations. Users with content preference B are most affected by biased recommendations that may cause them to leave the platform. This will then also affect content providers of content B as their content will be recommend less and users of type three leaving the platform will further decrease the royalties these content providers receive.\n",
    "\n",
    "A biased RS can be used to play the providers against each other with the use of special agreements to reduce the royalties in exchange for increased plays. This will reduce the content providers royalties more than when trying to maximize consumer utility.\n",
    "\n",
    "By vertical integration the platforms gain more power by producing own content or merging with a content provider. This will harm the independent content providers in the form of decreased demand. This can lead to renegotiation with content providers in order to decrease royalty payments. This might cause a decrease in available content which will negatively affect the users of type two and three.\n",
    "\n",
    "\n",
    "### 3.2.7\tWhat is your suggestion to address this problem?\n",
    "The best outcome would be to encourage platforms to recommend content based on personalized recommendations. This maximizes user utility, but the platform will have increased costs in form of royalty payments to content providers.\n",
    "\n",
    "More transparency in platforms content RS would help negate the first case, by making it clearer for the users how the content is recommended.\n",
    "\n",
    "Content providers could try to band together to negotiate the royalty rates in order to prevent the platforms form playing the providers against each other.\n",
    "\n",
    "To prevent too much vertical integration anti-trust laws may need to be used in order to prevent platforms from becoming too large and powerful.\n",
    "\n"
   ]
  },
  {
   "cell_type": "code",
   "execution_count": null,
   "id": "architectural-regular",
   "metadata": {},
   "outputs": [],
   "source": []
  }
 ],
 "metadata": {
  "kernelspec": {
   "display_name": "Python 3",
   "language": "python",
   "name": "python3"
  },
  "language_info": {
   "codemirror_mode": {
    "name": "ipython",
    "version": 3
   },
   "file_extension": ".py",
   "mimetype": "text/x-python",
   "name": "python",
   "nbconvert_exporter": "python",
   "pygments_lexer": "ipython3",
   "version": "3.8.8"
  }
 },
 "nbformat": 4,
 "nbformat_minor": 5
}
