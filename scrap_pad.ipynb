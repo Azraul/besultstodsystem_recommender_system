{
 "cells": [
  {
   "cell_type": "code",
   "execution_count": 1,
   "metadata": {},
   "outputs": [],
   "source": [
    "users_interests = [ \n",
    "    [\"Hadoop\", \"Big Data\", \"HBase\", \"Java\", \"Spark\", \"Storm\", \"Cassandra\"], \n",
    "    [\"NoSQL\", \"MongoDB\", \"Cassandra\", \"HBase\", \"Postgres\"], \n",
    "    [\"Python\", \"scikit-learn\", \"scipy\", \"numpy\", \"statsmodels\", \"pandas\"], \n",
    "    [\"R\", \"Python\", \"statistics\", \"regression\", \"probability\"], \n",
    "    [\"machine learning\", \"regression\", \"decision trees\", \"libsvm\"], \n",
    "    [\"Python\", \"R\", \"Java\", \"C++\", \"Haskell\", \"programming languages\"], \n",
    "    [\"statistics\", \"probability\", \"mathematics\", \"theory\"], \n",
    "    [\"machine learning\", \"scikit-learn\", \"Mahout\", \"neural networks\"], \n",
    "    [\"neural networks\", \"deep learning\", \"Big Data\", \"artificial intelligence\"], \n",
    "    [\"Hadoop\", \"Java\", \"MapReduce\", \"Big Data\"], \n",
    "    [\"statistics\", \"R\", \"statsmodels\"], \n",
    "    [\"C++\", \"deep learning\", \"artificial intelligence\", \"probability\"], \n",
    "    [\"pandas\", \"R\", \"Python\"], \n",
    "    [\"databases\", \"HBase\", \"Postgres\", \"MySQL\", \"MongoDB\"], \n",
    "    [\"libsvm\", \"regression\", \"support vector machines\"] \n",
    "]"
   ]
  },
  {
   "cell_type": "code",
   "execution_count": 2,
   "metadata": {},
   "outputs": [
    {
     "data": {
      "text/plain": [
       "Counter({'Hadoop': 2,\n",
       "         'Big Data': 3,\n",
       "         'HBase': 3,\n",
       "         'Java': 3,\n",
       "         'Spark': 1,\n",
       "         'Storm': 1,\n",
       "         'Cassandra': 2,\n",
       "         'NoSQL': 1,\n",
       "         'MongoDB': 2,\n",
       "         'Postgres': 2,\n",
       "         'Python': 4,\n",
       "         'scikit-learn': 2,\n",
       "         'scipy': 1,\n",
       "         'numpy': 1,\n",
       "         'statsmodels': 2,\n",
       "         'pandas': 2,\n",
       "         'R': 4,\n",
       "         'statistics': 3,\n",
       "         'regression': 3,\n",
       "         'probability': 3,\n",
       "         'machine learning': 2,\n",
       "         'decision trees': 1,\n",
       "         'libsvm': 2,\n",
       "         'C++': 2,\n",
       "         'Haskell': 1,\n",
       "         'programming languages': 1,\n",
       "         'mathematics': 1,\n",
       "         'theory': 1,\n",
       "         'Mahout': 1,\n",
       "         'neural networks': 2,\n",
       "         'deep learning': 2,\n",
       "         'artificial intelligence': 2,\n",
       "         'MapReduce': 1,\n",
       "         'databases': 1,\n",
       "         'MySQL': 1,\n",
       "         'support vector machines': 1})"
      ]
     },
     "metadata": {},
     "output_type": "display_data"
    }
   ],
   "source": [
    "from collections import Counter\n",
    "\n",
    "popular_interests = Counter(interest for user_interests in users_interests\n",
    "                           for interest in user_interests)\n",
    "\n",
    "display(popular_interests)"
   ]
  },
  {
   "cell_type": "code",
   "execution_count": 3,
   "metadata": {},
   "outputs": [],
   "source": [
    "from typing import List, Tuple\n",
    "\n",
    "def most_popular_new_interests(user_interests: List[str],\n",
    "                              max_results: int = 5\n",
    "                              ) -> List[Tuple[str, int]]:\n",
    "    suggestions = [(interest, frequency)\n",
    "                  for interest, frequency in popular_interests.most_common()\n",
    "                  if interest not in user_interests]\n",
    "    return suggestions[:max_results]"
   ]
  },
  {
   "cell_type": "code",
   "execution_count": 4,
   "metadata": {},
   "outputs": [
    {
     "data": {
      "text/plain": [
       "[('R', 4), ('Big Data', 3), ('HBase', 3), ('Java', 3), ('statistics', 3)]"
      ]
     },
     "execution_count": 4,
     "metadata": {},
     "output_type": "execute_result"
    }
   ],
   "source": [
    "most_popular_new_interests([\"Python\", \"libsvm\", \"scikit-learn\", \"jabbascript\"])\n"
   ]
  },
  {
   "cell_type": "markdown",
   "metadata": {},
   "source": [
    "## Collaborative filtering"
   ]
  },
  {
   "cell_type": "markdown",
   "metadata": {},
   "source": [
    "### TODO: Se om man kan jämföra user[0]'s interests bara\n",
    "Med alla andra users. Istället för att som i exemplet som jämför alla users interests till andra andras, vilket är typ n^2 complexity?"
   ]
  },
  {
   "cell_type": "code",
   "execution_count": 5,
   "metadata": {},
   "outputs": [],
   "source": [
    "import math\n",
    "\n",
    "unique_interests = sorted({interest \n",
    "                           for user_interests in users_interests \n",
    "                           for interest in user_interests})\n",
    "\n",
    "assert unique_interests[:6] == [ \n",
    "    'Big Data', \n",
    "    'C++', \n",
    "    'Cassandra', \n",
    "    'HBase', \n",
    "    'Hadoop', \n",
    "    'Haskell', \n",
    "    # ... \n",
    "]\n",
    "\n",
    "def make_user_interest_vector(user_interests: List[str]) -> List[int]: \n",
    "    \"\"\" \n",
    "    Given a list of interests, produce a vector whose ith element is 1 \n",
    "    if unique_interests[i] is in the list, 0 otherwise \n",
    "    \"\"\" \n",
    "    return [1 if interest in user_interests else 0 \n",
    "            for interest in unique_interests]\n",
    "\n",
    "user_interest_vectors = [make_user_interest_vector(user_interests) \n",
    "                         for user_interests in users_interests]"
   ]
  },
  {
   "cell_type": "markdown",
   "metadata": {},
   "source": [
    "### Calculate every user's interests against every other users"
   ]
  },
  {
   "cell_type": "code",
   "execution_count": 6,
   "metadata": {},
   "outputs": [
    {
     "data": {
      "text/plain": [
       "0.5669467095138409"
      ]
     },
     "execution_count": 6,
     "metadata": {},
     "output_type": "execute_result"
    }
   ],
   "source": [
    "Vector = List[float]\n",
    "\n",
    "def dot(v: Vector, w: Vector) -> float:\n",
    "    \"\"\"Computes v_1 * w_1 + ... + v_n * w_n\"\"\"\n",
    "    assert len(v) == len(w), \"vectors must be same length\"\n",
    "\n",
    "    return sum(v_i * w_i for v_i, w_i in zip(v, w))\n",
    "\n",
    "def cosine_similarity(v1: Vector, v2: Vector) -> float:\n",
    "    return dot(v1, v2) / math.sqrt(dot(v1, v1) * dot(v2, v2))\n",
    "\n",
    "user_similarities = [[cosine_similarity(interest_vector_i, interest_vector_j) \n",
    "                      for interest_vector_j in user_interest_vectors] \n",
    "                     for interest_vector_i in user_interest_vectors]\n",
    "\n",
    "# Users 0 and 9 share interests in Hadoop, Java, and Big Data \n",
    "assert 0.56 < user_similarities[0][9] < 0.58, \"several shared interests\" \n",
    " \n",
    "# Users 0 and 8 share only one interest: Big Data \n",
    "assert 0.18 < user_similarities[0][8] < 0.20, \"only one shared interest\"\n",
    "\n",
    "user_similarities[0][9]"
   ]
  },
  {
   "cell_type": "markdown",
   "metadata": {},
   "source": [
    "### Calculate only user [0]'s interests against others"
   ]
  },
  {
   "cell_type": "code",
   "execution_count": 7,
   "metadata": {},
   "outputs": [
    {
     "data": {
      "text/plain": [
       "0.5669467095138409"
      ]
     },
     "execution_count": 7,
     "metadata": {},
     "output_type": "execute_result"
    }
   ],
   "source": [
    "Vector = List[float]\n",
    "pelles_interests = user_interest_vectors[0]\n",
    "\n",
    "def dot(v: Vector, w: Vector) -> float:\n",
    "    \"\"\"Computes v_1 * w_1 + ... + v_n * w_n\"\"\"\n",
    "    assert len(v) == len(w), \"vectors must be same length\"\n",
    "\n",
    "    return sum(v_i * w_i for v_i, w_i in zip(v, w))\n",
    "\n",
    "def cosine_similarity(v1: Vector, v2: Vector) -> float:\n",
    "    return dot(v1, v2) / math.sqrt(dot(v1, v1) * dot(v2, v2))\n",
    "\n",
    "pelles_similarities = [cosine_similarity(pelles_interests, interest_vector_i)\n",
    "                     for interest_vector_i in user_interest_vectors]\n",
    "\n",
    "# Users 0 and 9 share interests in Hadoop, Java, and Big Data \n",
    "#assert 0.56 < user_similarities[0][9] < 0.58, \"several shared interests\" \n",
    " \n",
    "# Users 0 and 8 share only one interest: Big Data \n",
    "#assert 0.18 < user_similarities[0][8] < 0.20, \"only one shared interest\"\n",
    "\n",
    "pelles_similarities[9]"
   ]
  },
  {
   "cell_type": "markdown",
   "metadata": {},
   "source": [
    "# Spotify MPD Collaborative Filtering\n",
    "- Idé: Rekommendera ett namn för givna spellistan genom att ge den samma namn som den närmaste playlisten.\n",
    "- Skapa en funktion som konverterar spellistorna att ha bara artisten och namnet i sig."
   ]
  },
  {
   "cell_type": "code",
   "execution_count": 8,
   "metadata": {},
   "outputs": [],
   "source": [
    "import json\n",
    "import os\n",
    "\n",
    "playlists = []\n",
    "data_path = \"mpd/data_samples\"\n",
    "num_files = len(os.listdir(data_path))\n",
    "\n",
    "for filename in os.listdir(data_path):\n",
    "    with open(os.path.join(data_path, filename), \"rt\", encoding=\"utf-8\") as f:\n",
    "        playlists.extend(json.load(f)[\"playlists\"])\n"
   ]
  },
  {
   "cell_type": "code",
   "execution_count": 9,
   "metadata": {},
   "outputs": [
    {
     "name": "stdout",
     "output_type": "stream",
     "text": [
      "Number of jsons:  1\n",
      "Unique songs: 33026\n"
     ]
    }
   ],
   "source": [
    "unique_songs = sorted({f\"{song['artist_name']} - {song['track_name']}\"\n",
    "                           for playlist in playlists\n",
    "                           for i, song in enumerate(playlist[\"tracks\"])})\n",
    "print(\"Number of jsons: \", num_files)\n",
    "print(\"Unique songs:\", len(unique_songs))"
   ]
  },
  {
   "cell_type": "code",
   "execution_count": 10,
   "metadata": {},
   "outputs": [
    {
     "data": {
      "text/plain": [
       "['Jagged Edge - Where the Party At',\n",
       " 'Rihanna - Pour It Up',\n",
       " 'Jeremih - oui',\n",
       " 'Diddy - I Need A Girl (Part One) (feat. Usher & Loon)',\n",
       " 'Fat Joe - All The Way Up',\n",
       " 'Adele - Send My Love (To Your New Lover)',\n",
       " 'Shawn Mendes - Treat You Better',\n",
       " 'Drake - Too Good',\n",
       " 'FRENSHIP - Capsize',\n",
       " 'Flume - Say It',\n",
       " 'DRAM - Broccoli (feat. Lil Yachty)',\n",
       " 'Kanye West - Champions',\n",
       " 'DJ Drama - Wishing (feat. Chris Brown, Skeme & Lyquin)',\n",
       " 'Denzel Curry - Ultimate',\n",
       " 'Chance The Rapper - Angels (feat. Saba)',\n",
       " 'Chance The Rapper - Summer Friends (feat. Jeremih & Francis & The Lights)',\n",
       " 'Nick Jonas - Bacon',\n",
       " 'Nick Jonas - Champagne Problems',\n",
       " 'Twenty One Pilots - Heathens',\n",
       " 'Twenty One Pilots - Ride',\n",
       " 'Twenty One Pilots - Heavydirtysoul',\n",
       " 'Moguai - Hold On - Radio Edit']"
      ]
     },
     "execution_count": 10,
     "metadata": {},
     "output_type": "execute_result"
    }
   ],
   "source": [
    "[f\"{s['artist_name']} - {s['track_name']}\" for i, s in enumerate(playlists[3][\"tracks\"])]"
   ]
  },
  {
   "cell_type": "code",
   "execution_count": 11,
   "metadata": {},
   "outputs": [
    {
     "name": "stdout",
     "output_type": "stream",
     "text": [
      "vectors length: 1000\n"
     ]
    },
    {
     "data": {
      "text/plain": [
       "62909"
      ]
     },
     "execution_count": 11,
     "metadata": {},
     "output_type": "execute_result"
    }
   ],
   "source": [
    "def make_playlist_vector(playlist: dict) -> List[int]:\n",
    "    \"\"\"\n",
    "    Given a list of interests, produce a vector whose ith element is 1\n",
    "    if unique_interests[i] is in the list, 0 otherwise\n",
    "    \"\"\"\n",
    "    return [\n",
    "        1\n",
    "        if song\n",
    "        in [f\"{s['artist_name']} - {s['track_name']}\" for i, s in enumerate(playlist[\"tracks\"])]\n",
    "        else 0\n",
    "        for song in unique_songs #[:100] for testing\n",
    "    ]\n",
    "\n",
    "import time\n",
    "\n",
    "t0 = time.time()\n",
    "\n",
    "playlists_vectors = [make_playlist_vector(playlist) for playlist in playlists] # [:100] for testing\n",
    "t1 = time.time()\n",
    "print(f\"Time taken: {round(t1-t0, 2)} s\")\n",
    "print(\"vectors length:\", len(playlists_vectors))\n",
    "\n",
    "import numpy as np\n",
    "p = np.array(playlists_vectors)\n",
    "sum(p.flatten())"
   ]
  },
  {
   "cell_type": "code",
   "execution_count": 12,
   "metadata": {},
   "outputs": [
    {
     "data": {
      "text/plain": [
       "62909"
      ]
     },
     "execution_count": 12,
     "metadata": {},
     "output_type": "execute_result"
    }
   ],
   "source": [
    "import numpy as np\n",
    "p = np.array(playlists_vectors)\n",
    "sum(p.flatten())"
   ]
  },
  {
   "cell_type": "code",
   "execution_count": 14,
   "metadata": {},
   "outputs": [
    {
     "data": {
      "text/plain": [
       "0.0"
      ]
     },
     "execution_count": 14,
     "metadata": {},
     "output_type": "execute_result"
    }
   ],
   "source": [
    "Vector = List[float]\n",
    "pelles_interests = playlists_vectors[0]\n",
    "\n",
    "def dot(v: Vector, w: Vector) -> float:\n",
    "    \"\"\"Computes v_1 * w_1 + ... + v_n * w_n\"\"\"\n",
    "    assert len(v) == len(w), \"vectors must be same length\"\n",
    "\n",
    "    return sum(v_i * w_i for v_i, w_i in zip(v, w))\n",
    "\n",
    "def cosine_similarity(v1: Vector, v2: Vector) -> float:\n",
    "    return dot(v1, v2) / math.sqrt(dot(v1, v1) * dot(v2, v2))\n",
    "\n",
    "pelles_similarities = [cosine_similarity(pelles_interests, playlist_vector_i)\n",
    "                     for playlist_vector_i in playlists_vectors]\n",
    "\n",
    "# Users 0 and 9 share interests in Hadoop, Java, and Big Data \n",
    "#assert 0.56 < user_similarities[0][9] < 0.58, \"several shared interests\" \n",
    " \n",
    "# Users 0 and 8 share only one interest: Big Data \n",
    "#assert 0.18 < user_similarities[0][8] < 0.20, \"only one shared interest\"\n",
    "\n",
    "pelles_similarities[9]"
   ]
  },
  {
   "cell_type": "code",
   "execution_count": 18,
   "metadata": {},
   "outputs": [
    {
     "name": "stdout",
     "output_type": "stream",
     "text": [
      "Similarity to playlists[0]:  1.0\n",
      "Similarity to playlists[16]:  0.09672388203287414\n",
      "Similarity to playlists[333]:  0.0808158687660548\n"
     ]
    }
   ],
   "source": [
    "for i, sim in enumerate(pelles_similarities):\n",
    "    if (sim > 0.08):\n",
    "        print(f\"Similarity to playlists[{i}]: \", sim)"
   ]
  },
  {
   "cell_type": "code",
   "execution_count": null,
   "metadata": {},
   "outputs": [],
   "source": []
  }
 ],
 "metadata": {
  "kernelspec": {
   "display_name": "Python 3",
   "language": "python",
   "name": "python3"
  },
  "language_info": {
   "codemirror_mode": {
    "name": "ipython",
    "version": 3
   },
   "file_extension": ".py",
   "mimetype": "text/x-python",
   "name": "python",
   "nbconvert_exporter": "python",
   "pygments_lexer": "ipython3",
   "version": "3.7.6"
  }
 },
 "nbformat": 4,
 "nbformat_minor": 4
}
